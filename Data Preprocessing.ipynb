{
 "cells": [
  {
   "cell_type": "markdown",
   "metadata": {},
   "source": [
    "IMPORTING IMPORTANT DATASCIENCE LIBRARIES"
   ]
  },
  {
   "cell_type": "code",
   "execution_count": 94,
   "metadata": {
    "collapsed": true
   },
   "outputs": [],
   "source": [
    "\n",
    "\n",
    "import numpy as np\n",
    "import pandas as pd\n",
    "import matplotlib.pyplot"
   ]
  },
  {
   "cell_type": "markdown",
   "metadata": {},
   "source": [
    "IMPORTING THE DATASET FROM THE DESKTOP AND READ IT INTO THE IDLE"
   ]
  },
  {
   "cell_type": "code",
   "execution_count": 99,
   "metadata": {
    "collapsed": false
   },
   "outputs": [
    {
     "data": {
      "text/html": [
       "<div>\n",
       "<table border=\"1\" class=\"dataframe\">\n",
       "  <thead>\n",
       "    <tr style=\"text-align: right;\">\n",
       "      <th></th>\n",
       "      <th>Developer</th>\n",
       "      <th>Age</th>\n",
       "      <th>Salary</th>\n",
       "      <th>Married</th>\n",
       "    </tr>\n",
       "  </thead>\n",
       "  <tbody>\n",
       "    <tr>\n",
       "      <th>0</th>\n",
       "      <td>Karachi</td>\n",
       "      <td>42.0</td>\n",
       "      <td>78000.0</td>\n",
       "      <td>No</td>\n",
       "    </tr>\n",
       "    <tr>\n",
       "      <th>1</th>\n",
       "      <td>Lahore</td>\n",
       "      <td>32.0</td>\n",
       "      <td>48000.0</td>\n",
       "      <td>Yes</td>\n",
       "    </tr>\n",
       "    <tr>\n",
       "      <th>2</th>\n",
       "      <td>Karachi</td>\n",
       "      <td>36.0</td>\n",
       "      <td>60000.0</td>\n",
       "      <td>No</td>\n",
       "    </tr>\n",
       "    <tr>\n",
       "      <th>3</th>\n",
       "      <td>Multan</td>\n",
       "      <td>41.0</td>\n",
       "      <td>68000.0</td>\n",
       "      <td>No</td>\n",
       "    </tr>\n",
       "    <tr>\n",
       "      <th>4</th>\n",
       "      <td>Lahore</td>\n",
       "      <td>42.0</td>\n",
       "      <td>NaN</td>\n",
       "      <td>Yes</td>\n",
       "    </tr>\n",
       "  </tbody>\n",
       "</table>\n",
       "</div>"
      ],
      "text/plain": [
       "  Developer   Age   Salary Married\n",
       "0   Karachi  42.0  78000.0      No\n",
       "1    Lahore  32.0  48000.0     Yes\n",
       "2   Karachi  36.0  60000.0      No\n",
       "3    Multan  41.0  68000.0      No\n",
       "4    Lahore  42.0      NaN     Yes"
      ]
     },
     "execution_count": 99,
     "metadata": {},
     "output_type": "execute_result"
    }
   ],
   "source": [
    "dataset = pd.read_csv('Dataset.csv')  \n",
    "\n",
    "dataset.head(5)"
   ]
  },
  {
   "cell_type": "markdown",
   "metadata": {},
   "source": [
    "DIVISON OF DATASET INTO FEATURES AND LABELS "
   ]
  },
  {
   "cell_type": "code",
   "execution_count": 47,
   "metadata": {
    "collapsed": false
   },
   "outputs": [
    {
     "data": {
      "text/plain": [
       "array([['Karachi', 42.0, 78000.0],\n",
       "       ['Lahore', 32.0, 48000.0],\n",
       "       ['Karachi', 36.0, 60000.0],\n",
       "       ['Multan', 41.0, 68000.0],\n",
       "       ['Lahore', 42.0, nan],\n",
       "       ['Multan', 43.0, 59000.0],\n",
       "       ['Karachi', nan, 59000.0],\n",
       "       ['Lahore', 44.0, 79000.0],\n",
       "       ['Multan', 52.0, 99000.0],\n",
       "       ['Lahore', 32.0, 69000.0]], dtype=object)"
      ]
     },
     "execution_count": 47,
     "metadata": {},
     "output_type": "execute_result"
    }
   ],
   "source": [
    "X = dataset.iloc[: , :-1].values\n",
    "XY = dataset.iloc[: , :-1].values\n",
    "XYZ = dataset.iloc[: , :-1].values\n",
    "Y = dataset['Married'].values\n",
    "X"
   ]
  },
  {
   "cell_type": "markdown",
   "metadata": {},
   "source": [
    "HANDLING THE MISSING VALUES BY USING MEAN AND SKLEARN LIBRARY"
   ]
  },
  {
   "cell_type": "code",
   "execution_count": 50,
   "metadata": {
    "collapsed": false
   },
   "outputs": [
    {
     "data": {
      "text/plain": [
       "array([['Karachi', 42.0, 78000.0],\n",
       "       ['Lahore', 32.0, 48000.0],\n",
       "       ['Karachi', 36.0, 60000.0],\n",
       "       ['Multan', 41.0, 68000.0],\n",
       "       ['Lahore', 42.0, 68777.77777777778],\n",
       "       ['Multan', 43.0, 59000.0],\n",
       "       ['Karachi', 40.44444444444444, 59000.0],\n",
       "       ['Lahore', 44.0, 79000.0],\n",
       "       ['Multan', 52.0, 99000.0],\n",
       "       ['Lahore', 32.0, 69000.0]], dtype=object)"
      ]
     },
     "execution_count": 50,
     "metadata": {},
     "output_type": "execute_result"
    }
   ],
   "source": [
    "from sklearn.preprocessing import Imputer\n",
    "imputer = Imputer(missing_values='NaN', strategy='mean' , axis =0)\n",
    "imputer=imputer.fit(X[: , 1:3])\n",
    "X[: , 1:3] = imputer.transform(X[: ,1:3])\n",
    "X"
   ]
  },
  {
   "cell_type": "markdown",
   "metadata": {},
   "source": [
    "HANDLING THE MISSING VALUES BY USING MEDIAN AND SKLEARN LIBRARY"
   ]
  },
  {
   "cell_type": "code",
   "execution_count": 101,
   "metadata": {
    "collapsed": false
   },
   "outputs": [
    {
     "data": {
      "text/plain": [
       "array([['Karachi', 42.0, 78000.0],\n",
       "       ['Lahore', 32.0, 48000.0],\n",
       "       ['Karachi', 36.0, 60000.0],\n",
       "       ['Multan', 41.0, 68000.0],\n",
       "       ['Lahore', 42.0, 68000.0],\n",
       "       ['Multan', 43.0, 59000.0],\n",
       "       ['Karachi', 42.0, 59000.0],\n",
       "       ['Lahore', 44.0, 79000.0],\n",
       "       ['Multan', 52.0, 99000.0],\n",
       "       ['Lahore', 32.0, 69000.0]], dtype=object)"
      ]
     },
     "execution_count": 101,
     "metadata": {},
     "output_type": "execute_result"
    }
   ],
   "source": [
    "from sklearn.preprocessing import Imputer\n",
    "imputer = Imputer(missing_values='NaN', strategy='median' , axis =0)\n",
    "imputer=imputer.fit(XY[: , 1:3])\n",
    "XY[: , 1:3] = imputer.transform(XY[: ,1:3])\n",
    "XY"
   ]
  },
  {
   "cell_type": "markdown",
   "metadata": {},
   "source": [
    "HANDLING THE MISSING VALUES BY USING MOST FREQUENT VALUE FROM THE DATASET AND SKLEARN LIBRARY"
   ]
  },
  {
   "cell_type": "code",
   "execution_count": 51,
   "metadata": {
    "collapsed": false
   },
   "outputs": [
    {
     "data": {
      "text/plain": [
       "array([['Karachi', 42.0, 78000.0],\n",
       "       ['Lahore', 32.0, 48000.0],\n",
       "       ['Karachi', 36.0, 60000.0],\n",
       "       ['Multan', 41.0, 68000.0],\n",
       "       ['Lahore', 42.0, 59000.0],\n",
       "       ['Multan', 43.0, 59000.0],\n",
       "       ['Karachi', 32.0, 59000.0],\n",
       "       ['Lahore', 44.0, 79000.0],\n",
       "       ['Multan', 52.0, 99000.0],\n",
       "       ['Lahore', 32.0, 69000.0]], dtype=object)"
      ]
     },
     "execution_count": 51,
     "metadata": {},
     "output_type": "execute_result"
    }
   ],
   "source": [
    "from sklearn.preprocessing import Imputer\n",
    "imputer = Imputer(missing_values='NaN', strategy='most_frequent' , axis =0)\n",
    "imputer=imputer.fit(XYZ[: , 1:3])\n",
    "XYZ[: , 1:3] = imputer.transform(XYZ[: ,1:3])\n",
    "XYZ"
   ]
  },
  {
   "cell_type": "markdown",
   "metadata": {},
   "source": [
    "HANDLING THE MISSING VALUE BY REMOVING THE NAN VALUES ROWS FROM THE DATASET"
   ]
  },
  {
   "cell_type": "code",
   "execution_count": 52,
   "metadata": {
    "collapsed": false
   },
   "outputs": [
    {
     "data": {
      "text/html": [
       "<div>\n",
       "<table border=\"1\" class=\"dataframe\">\n",
       "  <thead>\n",
       "    <tr style=\"text-align: right;\">\n",
       "      <th></th>\n",
       "      <th>Developer</th>\n",
       "      <th>Age</th>\n",
       "      <th>Salary</th>\n",
       "      <th>Married</th>\n",
       "    </tr>\n",
       "  </thead>\n",
       "  <tbody>\n",
       "    <tr>\n",
       "      <th>0</th>\n",
       "      <td>Karachi</td>\n",
       "      <td>42.0</td>\n",
       "      <td>78000.0</td>\n",
       "      <td>No</td>\n",
       "    </tr>\n",
       "    <tr>\n",
       "      <th>1</th>\n",
       "      <td>Lahore</td>\n",
       "      <td>32.0</td>\n",
       "      <td>48000.0</td>\n",
       "      <td>Yes</td>\n",
       "    </tr>\n",
       "    <tr>\n",
       "      <th>2</th>\n",
       "      <td>Karachi</td>\n",
       "      <td>36.0</td>\n",
       "      <td>60000.0</td>\n",
       "      <td>No</td>\n",
       "    </tr>\n",
       "    <tr>\n",
       "      <th>3</th>\n",
       "      <td>Multan</td>\n",
       "      <td>41.0</td>\n",
       "      <td>68000.0</td>\n",
       "      <td>No</td>\n",
       "    </tr>\n",
       "    <tr>\n",
       "      <th>5</th>\n",
       "      <td>Multan</td>\n",
       "      <td>43.0</td>\n",
       "      <td>59000.0</td>\n",
       "      <td>Yes</td>\n",
       "    </tr>\n",
       "    <tr>\n",
       "      <th>7</th>\n",
       "      <td>Lahore</td>\n",
       "      <td>44.0</td>\n",
       "      <td>79000.0</td>\n",
       "      <td>Yes</td>\n",
       "    </tr>\n",
       "    <tr>\n",
       "      <th>8</th>\n",
       "      <td>Multan</td>\n",
       "      <td>52.0</td>\n",
       "      <td>99000.0</td>\n",
       "      <td>No</td>\n",
       "    </tr>\n",
       "    <tr>\n",
       "      <th>9</th>\n",
       "      <td>Lahore</td>\n",
       "      <td>32.0</td>\n",
       "      <td>69000.0</td>\n",
       "      <td>Yes</td>\n",
       "    </tr>\n",
       "  </tbody>\n",
       "</table>\n",
       "</div>"
      ],
      "text/plain": [
       "  Developer   Age   Salary Married\n",
       "0   Karachi  42.0  78000.0      No\n",
       "1    Lahore  32.0  48000.0     Yes\n",
       "2   Karachi  36.0  60000.0      No\n",
       "3    Multan  41.0  68000.0      No\n",
       "5    Multan  43.0  59000.0     Yes\n",
       "7    Lahore  44.0  79000.0     Yes\n",
       "8    Multan  52.0  99000.0      No\n",
       "9    Lahore  32.0  69000.0     Yes"
      ]
     },
     "execution_count": 52,
     "metadata": {},
     "output_type": "execute_result"
    }
   ],
   "source": [
    "dataset.dropna(axis = 0)"
   ]
  },
  {
   "cell_type": "markdown",
   "metadata": {},
   "source": [
    "WHEN THE FEATURES ARE IN THE FORM OF CATEGORY OR CLASS THEN WE USE LABEL ENCODER AS BELOW FORM"
   ]
  },
  {
   "cell_type": "code",
   "execution_count": 61,
   "metadata": {
    "collapsed": false
   },
   "outputs": [
    {
     "data": {
      "text/plain": [
       "array([[0, 42.0, 78000.0],\n",
       "       [1, 32.0, 48000.0],\n",
       "       [0, 36.0, 60000.0],\n",
       "       [2, 41.0, 68000.0],\n",
       "       [1, 42.0, 68777.77777777778],\n",
       "       [2, 43.0, 59000.0],\n",
       "       [0, 40.44444444444444, 59000.0],\n",
       "       [1, 44.0, 79000.0],\n",
       "       [2, 52.0, 99000.0],\n",
       "       [1, 32.0, 69000.0]], dtype=object)"
      ]
     },
     "execution_count": 61,
     "metadata": {},
     "output_type": "execute_result"
    }
   ],
   "source": [
    "from sklearn.preprocessing import LabelEncoder\n",
    "labalencoder_X = LabelEncoder()\n",
    "X[:,0] = labalencoder_X.fit_transform(X[:,0])\n",
    "X\n"
   ]
  },
  {
   "cell_type": "markdown",
   "metadata": {},
   "source": [
    "ONEHOT ENCODER IS USED TO GIVE THE CATEGORICAL VALUE IN THE FEATURES AND IT HELPS TO GIVE \n",
    "DISTINGUISH THE FEATUTRES OF CATEGORICAL FORM"
   ]
  },
  {
   "cell_type": "code",
   "execution_count": 71,
   "metadata": {
    "collapsed": false
   },
   "outputs": [
    {
     "data": {
      "text/plain": [
       "array([[  0.00000000e+00,   1.00000000e+00,   0.00000000e+00,\n",
       "          1.00000000e+00,   0.00000000e+00,   1.00000000e+00,\n",
       "          0.00000000e+00,   1.00000000e+00,   0.00000000e+00,\n",
       "          0.00000000e+00,   4.20000000e+01,   7.80000000e+04],\n",
       "       [  1.00000000e+00,   0.00000000e+00,   1.00000000e+00,\n",
       "          0.00000000e+00,   1.00000000e+00,   0.00000000e+00,\n",
       "          1.00000000e+00,   0.00000000e+00,   1.00000000e+00,\n",
       "          0.00000000e+00,   3.20000000e+01,   4.80000000e+04],\n",
       "       [  0.00000000e+00,   1.00000000e+00,   0.00000000e+00,\n",
       "          1.00000000e+00,   0.00000000e+00,   1.00000000e+00,\n",
       "          0.00000000e+00,   1.00000000e+00,   0.00000000e+00,\n",
       "          0.00000000e+00,   3.60000000e+01,   6.00000000e+04],\n",
       "       [  1.00000000e+00,   0.00000000e+00,   1.00000000e+00,\n",
       "          0.00000000e+00,   1.00000000e+00,   0.00000000e+00,\n",
       "          1.00000000e+00,   0.00000000e+00,   0.00000000e+00,\n",
       "          1.00000000e+00,   4.10000000e+01,   6.80000000e+04],\n",
       "       [  1.00000000e+00,   0.00000000e+00,   1.00000000e+00,\n",
       "          0.00000000e+00,   1.00000000e+00,   0.00000000e+00,\n",
       "          1.00000000e+00,   0.00000000e+00,   1.00000000e+00,\n",
       "          0.00000000e+00,   4.20000000e+01,   6.87777778e+04],\n",
       "       [  1.00000000e+00,   0.00000000e+00,   1.00000000e+00,\n",
       "          0.00000000e+00,   1.00000000e+00,   0.00000000e+00,\n",
       "          1.00000000e+00,   0.00000000e+00,   0.00000000e+00,\n",
       "          1.00000000e+00,   4.30000000e+01,   5.90000000e+04],\n",
       "       [  0.00000000e+00,   1.00000000e+00,   0.00000000e+00,\n",
       "          1.00000000e+00,   0.00000000e+00,   1.00000000e+00,\n",
       "          0.00000000e+00,   1.00000000e+00,   0.00000000e+00,\n",
       "          0.00000000e+00,   4.04444444e+01,   5.90000000e+04],\n",
       "       [  1.00000000e+00,   0.00000000e+00,   1.00000000e+00,\n",
       "          0.00000000e+00,   1.00000000e+00,   0.00000000e+00,\n",
       "          1.00000000e+00,   0.00000000e+00,   1.00000000e+00,\n",
       "          0.00000000e+00,   4.40000000e+01,   7.90000000e+04],\n",
       "       [  1.00000000e+00,   0.00000000e+00,   1.00000000e+00,\n",
       "          0.00000000e+00,   1.00000000e+00,   0.00000000e+00,\n",
       "          1.00000000e+00,   0.00000000e+00,   0.00000000e+00,\n",
       "          1.00000000e+00,   5.20000000e+01,   9.90000000e+04],\n",
       "       [  1.00000000e+00,   0.00000000e+00,   1.00000000e+00,\n",
       "          0.00000000e+00,   1.00000000e+00,   0.00000000e+00,\n",
       "          1.00000000e+00,   0.00000000e+00,   1.00000000e+00,\n",
       "          0.00000000e+00,   3.20000000e+01,   6.90000000e+04]])"
      ]
     },
     "execution_count": 71,
     "metadata": {},
     "output_type": "execute_result"
    }
   ],
   "source": [
    "from sklearn.preprocessing import OneHotEncoder\n",
    "onehotencoder = OneHotEncoder(categorical_features=[0])\n",
    "X = onehotencoder.fit_transform(X).toarray()\n",
    "X\n"
   ]
  },
  {
   "cell_type": "markdown",
   "metadata": {},
   "source": [
    "TRAIN TEST SPLIT IS USED TO DIVIDE THE DATASET INTO TRAINING AND TESTING PART IN SUPERVISED LEARNING \n",
    "AFTERWHICH WE APPLY DIFFERENT ALGO IN IT."
   ]
  },
  {
   "cell_type": "markdown",
   "metadata": {},
   "source": [
    "from sklearn.cross_validation import train_test_split\n",
    "train_x , test_x , train_y , test_y = train_test_split(X,Y ,test_size = 0.2 ,random_state =0)"
   ]
  },
  {
   "cell_type": "markdown",
   "metadata": {},
   "source": [
    "STANDARDSCALER IS USED TO GIVE THE CLOSE VALUE OF AALL THE FEATURES AND LABELS BETWEEN -1 AND 1\n",
    "IT HELPS TO STANDARDIZE THE DATA AND GIVE GOOD PREDICTIONS."
   ]
  },
  {
   "cell_type": "code",
   "execution_count": 92,
   "metadata": {
    "collapsed": false
   },
   "outputs": [
    {
     "data": {
      "text/plain": [
       "array([[ 0.57735027, -0.57735027,  0.57735027, -0.57735027,  0.57735027,\n",
       "        -0.57735027,  0.57735027, -0.57735027,  1.        , -0.57735027,\n",
       "         0.54554305,  0.2758114 ],\n",
       "       [ 0.57735027, -0.57735027,  0.57735027, -0.57735027,  0.57735027,\n",
       "        -0.57735027,  0.57735027, -0.57735027,  1.        , -0.57735027,\n",
       "        -1.68622397,  0.29867659],\n",
       "       [ 0.57735027, -0.57735027,  0.57735027, -0.57735027,  0.57735027,\n",
       "        -0.57735027,  0.57735027, -0.57735027,  1.        , -0.57735027,\n",
       "        -1.68622397, -1.86208422],\n",
       "       [-1.73205081,  1.73205081, -1.73205081,  1.73205081, -1.73205081,\n",
       "         1.73205081, -1.73205081,  1.73205081, -1.        , -0.57735027,\n",
       "         0.19837929, -0.73025713],\n",
       "       [ 0.57735027, -0.57735027,  0.57735027, -0.57735027,  0.57735027,\n",
       "        -0.57735027,  0.57735027, -0.57735027,  1.        , -0.57735027,\n",
       "         0.99189645,  1.32761031],\n",
       "       [ 0.57735027, -0.57735027,  0.57735027, -0.57735027,  0.57735027,\n",
       "        -0.57735027,  0.57735027, -0.57735027, -1.        ,  1.73205081,\n",
       "         0.32236635,  0.19578322],\n",
       "       [-1.73205081,  1.73205081, -1.73205081,  1.73205081, -1.73205081,\n",
       "         1.73205081, -1.73205081,  1.73205081, -1.        , -0.57735027,\n",
       "         0.54554305,  1.22471694],\n",
       "       [ 0.57735027, -0.57735027,  0.57735027, -0.57735027,  0.57735027,\n",
       "        -0.57735027,  0.57735027, -0.57735027, -1.        ,  1.73205081,\n",
       "         0.76871975, -0.73025713]])"
      ]
     },
     "execution_count": 92,
     "metadata": {},
     "output_type": "execute_result"
    }
   ],
   "source": [
    "from sklearn.preprocessing import StandardScaler\n",
    "sc_X = StandardScaler()\n",
    "test_x = sc_X.fit_transform(test_x)\n",
    "train_x = sc_X.fit_transform(train_x)\n",
    "test_x\n",
    "train_x"
   ]
  },
  {
   "cell_type": "code",
   "execution_count": null,
   "metadata": {
    "collapsed": true
   },
   "outputs": [],
   "source": []
  }
 ],
 "metadata": {
  "kernelspec": {
   "display_name": "Python 3",
   "language": "python",
   "name": "python3"
  },
  "language_info": {
   "codemirror_mode": {
    "name": "ipython",
    "version": 3
   },
   "file_extension": ".py",
   "mimetype": "text/x-python",
   "name": "python",
   "nbconvert_exporter": "python",
   "pygments_lexer": "ipython3",
   "version": "3.6.0"
  }
 },
 "nbformat": 4,
 "nbformat_minor": 2
}
